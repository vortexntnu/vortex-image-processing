{
 "cells": [
  {
   "cell_type": "code",
   "execution_count": 3,
   "metadata": {},
   "outputs": [],
   "source": [
    "import cv2\n",
    "from ultralytics import YOLO"
   ]
  },
  {
   "cell_type": "code",
   "execution_count": 42,
   "metadata": {},
   "outputs": [],
   "source": [
    "model = YOLO(\"./yolov8n.pt\")"
   ]
  },
  {
   "cell_type": "code",
   "execution_count": 32,
   "metadata": {},
   "outputs": [],
   "source": [
    "def predict(chosen_model, img, classes=[], conf=0.5):\n",
    "    if classes:\n",
    "        results = chosen_model.predict(img, classes=classes, conf=conf)\n",
    "    else:\n",
    "        results = chosen_model.predict(img, conf=conf)\n",
    "\n",
    "    return results\n",
    "\n",
    "\n",
    "def predict_and_detect(chosen_model, img, classes=[], conf=0.5):\n",
    "    results = predict(chosen_model, img, classes, conf=conf)\n",
    "\n",
    "    print(results)\n",
    "    for result in results:\n",
    "        for box in result.boxes:\n",
    "            cv2.rectangle(\n",
    "                img,\n",
    "                (int(box.xyxy[0][0]), int(box.xyxy[0][1])),\n",
    "                (int(box.xyxy[0][2]), int(box.xyxy[0][3])),\n",
    "                (255, 0, 0),\n",
    "                2,\n",
    "            )\n",
    "            cv2.putText(\n",
    "                img,\n",
    "                f\"{result.names[int(box.cls[0])]}\",\n",
    "                (int(box.xyxy[0][0]), int(box.xyxy[0][1]) - 10),\n",
    "                cv2.FONT_HERSHEY_PLAIN,\n",
    "                1,\n",
    "                (255, 0, 0),\n",
    "                1,\n",
    "            )\n",
    "    return img, results"
   ]
  },
  {
   "cell_type": "code",
   "execution_count": 40,
   "metadata": {},
   "outputs": [
    {
     "name": "stderr",
     "output_type": "stream",
     "text": [
      "\n",
      "0: 640x640 (no detections), 32.0ms\n",
      "Speed: 6.5ms preprocess, 32.0ms inference, 2.0ms postprocess per image at shape (1, 3, 640, 640)\n"
     ]
    },
    {
     "name": "stdout",
     "output_type": "stream",
     "text": [
      "ultralytics.engine.results.Results object with attributes:\n",
      "\n",
      "boxes: ultralytics.engine.results.Boxes object\n",
      "keypoints: None\n",
      "masks: None\n",
      "names: {0: 'person', 1: 'bicycle', 2: 'car', 3: 'motorcycle', 4: 'airplane', 5: 'bus', 6: 'train', 7: 'truck', 8: 'boat', 9: 'traffic light', 10: 'fire hydrant', 11: 'stop sign', 12: 'parking meter', 13: 'bench', 14: 'bird', 15: 'cat', 16: 'dog', 17: 'horse', 18: 'sheep', 19: 'cow', 20: 'elephant', 21: 'bear', 22: 'zebra', 23: 'giraffe', 24: 'backpack', 25: 'umbrella', 26: 'handbag', 27: 'tie', 28: 'suitcase', 29: 'frisbee', 30: 'skis', 31: 'snowboard', 32: 'sports ball', 33: 'kite', 34: 'baseball bat', 35: 'baseball glove', 36: 'skateboard', 37: 'surfboard', 38: 'tennis racket', 39: 'bottle', 40: 'wine glass', 41: 'cup', 42: 'fork', 43: 'knife', 44: 'spoon', 45: 'bowl', 46: 'banana', 47: 'apple', 48: 'sandwich', 49: 'orange', 50: 'broccoli', 51: 'carrot', 52: 'hot dog', 53: 'pizza', 54: 'donut', 55: 'cake', 56: 'chair', 57: 'couch', 58: 'potted plant', 59: 'bed', 60: 'dining table', 61: 'toilet', 62: 'tv', 63: 'laptop', 64: 'mouse', 65: 'remote', 66: 'keyboard', 67: 'cell phone', 68: 'microwave', 69: 'oven', 70: 'toaster', 71: 'sink', 72: 'refrigerator', 73: 'book', 74: 'clock', 75: 'vase', 76: 'scissors', 77: 'teddy bear', 78: 'hair drier', 79: 'toothbrush'}\n",
      "orig_img: array([[[207, 177, 148],\n",
      "        [210, 180, 151],\n",
      "        [199, 170, 143],\n",
      "        ...,\n",
      "        [188, 164, 128],\n",
      "        [182, 156, 119],\n",
      "        [204, 177, 140]],\n",
      "\n",
      "       [[205, 178, 152],\n",
      "        [205, 178, 152],\n",
      "        [195, 168, 142],\n",
      "        ...,\n",
      "        [192, 169, 131],\n",
      "        [203, 177, 140],\n",
      "        [196, 169, 132]],\n",
      "\n",
      "       [[189, 165, 145],\n",
      "        [192, 171, 150],\n",
      "        [181, 160, 139],\n",
      "        ...,\n",
      "        [199, 176, 138],\n",
      "        [204, 178, 141],\n",
      "        [193, 167, 127]],\n",
      "\n",
      "       ...,\n",
      "\n",
      "       [[106,  96,  96],\n",
      "        [115, 105, 105],\n",
      "        [122, 112, 112],\n",
      "        ...,\n",
      "        [113, 109, 114],\n",
      "        [114, 110, 115],\n",
      "        [149, 145, 150]],\n",
      "\n",
      "       [[119, 109, 109],\n",
      "        [133, 123, 123],\n",
      "        [142, 132, 132],\n",
      "        ...,\n",
      "        [129, 125, 130],\n",
      "        [122, 118, 123],\n",
      "        [142, 138, 143]],\n",
      "\n",
      "       [[131, 121, 121],\n",
      "        [129, 119, 119],\n",
      "        [123, 113, 113],\n",
      "        ...,\n",
      "        [128, 124, 129],\n",
      "        [111, 107, 112],\n",
      "        [112, 108, 113]]], dtype=uint8)\n",
      "orig_shape: (640, 640)\n",
      "path: 'image0.jpg'\n",
      "probs: None\n",
      "save_dir: None\n",
      "speed: {'preprocess': 6.5021514892578125, 'inference': 31.9974422454834, 'postprocess': 2.001523971557617}\n"
     ]
    }
   ],
   "source": [
    "image = cv2.imread(\"C:\\\\Users\\Yauhen\\\\vortex-image-processing\\\\data\\\\test\\images\\\\20230611_112730_jpg.rf.a539b08490107377fbdca22df90bd5ee.jpg\")\n",
    "print(model.predict(image)[0])"
   ]
  },
  {
   "cell_type": "code",
   "execution_count": 14,
   "metadata": {},
   "outputs": [
    {
     "data": {
      "text/plain": [
       "-1"
      ]
     },
     "execution_count": 14,
     "metadata": {},
     "output_type": "execute_result"
    }
   ],
   "source": []
  }
 ],
 "metadata": {
  "kernelspec": {
   "display_name": "venv",
   "language": "python",
   "name": "python3"
  },
  "language_info": {
   "codemirror_mode": {
    "name": "ipython",
    "version": 3
   },
   "file_extension": ".py",
   "mimetype": "text/x-python",
   "name": "python",
   "nbconvert_exporter": "python",
   "pygments_lexer": "ipython3",
   "version": "3.11.4"
  }
 },
 "nbformat": 4,
 "nbformat_minor": 2
}
